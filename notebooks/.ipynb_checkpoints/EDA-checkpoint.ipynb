{
 "cells": [
  {
   "cell_type": "markdown",
   "id": "a95d7ba6-01fa-4988-b3fd-e58678e6f14b",
   "metadata": {},
   "source": [
    "# EDA"
   ]
  },
  {
   "cell_type": "code",
   "execution_count": 1,
   "id": "c472c8c8-dc07-4ac3-bb63-fae64b4172d3",
   "metadata": {},
   "outputs": [],
   "source": [
    "import pandas as pd\n",
    "import numpy as np"
   ]
  },
  {
   "cell_type": "code",
   "execution_count": 2,
   "id": "db85f8d3-d3e1-4570-9c80-eed47e277fec",
   "metadata": {},
   "outputs": [],
   "source": [
    "df = pd.read_csv(\"/Users/raghadibrahim/Desktop/WNV-mosquito-pred/data/WNV_data.csv\")"
   ]
  },
  {
   "cell_type": "code",
   "execution_count": 3,
   "id": "af357776-1705-41a5-b32d-cf770eb5c44e",
   "metadata": {},
   "outputs": [
    {
     "data": {
      "text/html": [
       "<div>\n",
       "<style scoped>\n",
       "    .dataframe tbody tr th:only-of-type {\n",
       "        vertical-align: middle;\n",
       "    }\n",
       "\n",
       "    .dataframe tbody tr th {\n",
       "        vertical-align: top;\n",
       "    }\n",
       "\n",
       "    .dataframe thead th {\n",
       "        text-align: right;\n",
       "    }\n",
       "</style>\n",
       "<table border=\"1\" class=\"dataframe\">\n",
       "  <thead>\n",
       "    <tr style=\"text-align: right;\">\n",
       "      <th></th>\n",
       "      <th>SEASON YEAR</th>\n",
       "      <th>WEEK</th>\n",
       "      <th>TEST ID</th>\n",
       "      <th>BLOCK</th>\n",
       "      <th>TRAP</th>\n",
       "      <th>TRAP_TYPE</th>\n",
       "      <th>TEST DATE</th>\n",
       "      <th>NUMBER OF MOSQUITOES</th>\n",
       "      <th>RESULT</th>\n",
       "      <th>SPECIES</th>\n",
       "      <th>COMMUNITY AREA NUMBER</th>\n",
       "      <th>COMMUNITY AREA NAME</th>\n",
       "      <th>LATITUDE</th>\n",
       "      <th>LONGITUDE</th>\n",
       "      <th>LOCATION</th>\n",
       "    </tr>\n",
       "  </thead>\n",
       "  <tbody>\n",
       "    <tr>\n",
       "      <th>0</th>\n",
       "      <td>2024</td>\n",
       "      <td>23</td>\n",
       "      <td>NaN</td>\n",
       "      <td>25XX W GRAND AVE</td>\n",
       "      <td>T046</td>\n",
       "      <td>GRAVID</td>\n",
       "      <td>NaN</td>\n",
       "      <td>0</td>\n",
       "      <td>NaN</td>\n",
       "      <td>NaN</td>\n",
       "      <td>24.0</td>\n",
       "      <td>WEST TOWN</td>\n",
       "      <td>41.892220</td>\n",
       "      <td>-87.691698</td>\n",
       "      <td>(41.89221998323666, -87.69169772868295)</td>\n",
       "    </tr>\n",
       "    <tr>\n",
       "      <th>1</th>\n",
       "      <td>2024</td>\n",
       "      <td>23</td>\n",
       "      <td>NaN</td>\n",
       "      <td>28XX N FRANCISCO AVE</td>\n",
       "      <td>T147</td>\n",
       "      <td>GRAVID</td>\n",
       "      <td>NaN</td>\n",
       "      <td>0</td>\n",
       "      <td>NaN</td>\n",
       "      <td>NaN</td>\n",
       "      <td>21.0</td>\n",
       "      <td>AVONDALE</td>\n",
       "      <td>41.932790</td>\n",
       "      <td>-87.700238</td>\n",
       "      <td>(41.93279020985206, -87.7002378838387)</td>\n",
       "    </tr>\n",
       "    <tr>\n",
       "      <th>2</th>\n",
       "      <td>2024</td>\n",
       "      <td>23</td>\n",
       "      <td>NaN</td>\n",
       "      <td>3XX W 104TH ST</td>\n",
       "      <td>T095</td>\n",
       "      <td>GRAVID</td>\n",
       "      <td>NaN</td>\n",
       "      <td>0</td>\n",
       "      <td>NaN</td>\n",
       "      <td>NaN</td>\n",
       "      <td>49.0</td>\n",
       "      <td>ROSELAND</td>\n",
       "      <td>41.705328</td>\n",
       "      <td>-87.632955</td>\n",
       "      <td>(41.70532764418326, -87.63295536539816)</td>\n",
       "    </tr>\n",
       "    <tr>\n",
       "      <th>3</th>\n",
       "      <td>2024</td>\n",
       "      <td>23</td>\n",
       "      <td>NaN</td>\n",
       "      <td>37XX S PULASKI RD</td>\n",
       "      <td>T063</td>\n",
       "      <td>GRAVID</td>\n",
       "      <td>NaN</td>\n",
       "      <td>0</td>\n",
       "      <td>NaN</td>\n",
       "      <td>NaN</td>\n",
       "      <td>30.0</td>\n",
       "      <td>SOUTH LAWNDALE</td>\n",
       "      <td>41.825398</td>\n",
       "      <td>-87.723962</td>\n",
       "      <td>(41.82539825646484, -87.72396213667864)</td>\n",
       "    </tr>\n",
       "    <tr>\n",
       "      <th>4</th>\n",
       "      <td>2024</td>\n",
       "      <td>23</td>\n",
       "      <td>NaN</td>\n",
       "      <td>100XX W OHARE AIRPORT</td>\n",
       "      <td>T913</td>\n",
       "      <td>GRAVID</td>\n",
       "      <td>NaN</td>\n",
       "      <td>0</td>\n",
       "      <td>NaN</td>\n",
       "      <td>NaN</td>\n",
       "      <td>76.0</td>\n",
       "      <td>OHARE</td>\n",
       "      <td>41.976201</td>\n",
       "      <td>-87.905309</td>\n",
       "      <td>(41.97620113902387, -87.90530912510346)</td>\n",
       "    </tr>\n",
       "  </tbody>\n",
       "</table>\n",
       "</div>"
      ],
      "text/plain": [
       "   SEASON YEAR  WEEK  TEST ID                  BLOCK  TRAP TRAP_TYPE  \\\n",
       "0         2024    23      NaN       25XX W GRAND AVE  T046    GRAVID   \n",
       "1         2024    23      NaN   28XX N FRANCISCO AVE  T147    GRAVID   \n",
       "2         2024    23      NaN         3XX W 104TH ST  T095    GRAVID   \n",
       "3         2024    23      NaN      37XX S PULASKI RD  T063    GRAVID   \n",
       "4         2024    23      NaN  100XX W OHARE AIRPORT  T913    GRAVID   \n",
       "\n",
       "  TEST DATE  NUMBER OF MOSQUITOES RESULT SPECIES  COMMUNITY AREA NUMBER  \\\n",
       "0       NaN                     0    NaN     NaN                   24.0   \n",
       "1       NaN                     0    NaN     NaN                   21.0   \n",
       "2       NaN                     0    NaN     NaN                   49.0   \n",
       "3       NaN                     0    NaN     NaN                   30.0   \n",
       "4       NaN                     0    NaN     NaN                   76.0   \n",
       "\n",
       "  COMMUNITY AREA NAME   LATITUDE  LONGITUDE  \\\n",
       "0           WEST TOWN  41.892220 -87.691698   \n",
       "1            AVONDALE  41.932790 -87.700238   \n",
       "2            ROSELAND  41.705328 -87.632955   \n",
       "3      SOUTH LAWNDALE  41.825398 -87.723962   \n",
       "4               OHARE  41.976201 -87.905309   \n",
       "\n",
       "                                  LOCATION  \n",
       "0  (41.89221998323666, -87.69169772868295)  \n",
       "1   (41.93279020985206, -87.7002378838387)  \n",
       "2  (41.70532764418326, -87.63295536539816)  \n",
       "3  (41.82539825646484, -87.72396213667864)  \n",
       "4  (41.97620113902387, -87.90530912510346)  "
      ]
     },
     "execution_count": 3,
     "metadata": {},
     "output_type": "execute_result"
    }
   ],
   "source": [
    "df.head()"
   ]
  },
  {
   "cell_type": "code",
   "execution_count": 4,
   "id": "3e4f3748-e498-4207-ba89-a7164bde10f6",
   "metadata": {},
   "outputs": [
    {
     "name": "stdout",
     "output_type": "stream",
     "text": [
      "<class 'pandas.core.frame.DataFrame'>\n",
      "RangeIndex: 41237 entries, 0 to 41236\n",
      "Data columns (total 15 columns):\n",
      " #   Column                 Non-Null Count  Dtype  \n",
      "---  ------                 --------------  -----  \n",
      " 0   SEASON YEAR            41237 non-null  int64  \n",
      " 1   WEEK                   41237 non-null  int64  \n",
      " 2   TEST ID                36363 non-null  float64\n",
      " 3   BLOCK                  41237 non-null  object \n",
      " 4   TRAP                   41237 non-null  object \n",
      " 5   TRAP_TYPE              41237 non-null  object \n",
      " 6   TEST DATE              36363 non-null  object \n",
      " 7   NUMBER OF MOSQUITOES   41237 non-null  int64  \n",
      " 8   RESULT                 36363 non-null  object \n",
      " 9   SPECIES                36363 non-null  object \n",
      " 10  COMMUNITY AREA NUMBER  40921 non-null  float64\n",
      " 11  COMMUNITY AREA NAME    40921 non-null  object \n",
      " 12  LATITUDE               40921 non-null  float64\n",
      " 13  LONGITUDE              40921 non-null  float64\n",
      " 14  LOCATION               40921 non-null  object \n",
      "dtypes: float64(4), int64(3), object(8)\n",
      "memory usage: 4.7+ MB\n"
     ]
    }
   ],
   "source": [
    "df.info()"
   ]
  },
  {
   "cell_type": "code",
   "execution_count": null,
   "id": "5c77d866-a525-4475-bcda-ac0ed45a4f8d",
   "metadata": {},
   "outputs": [],
   "source": []
  },
  {
   "cell_type": "code",
   "execution_count": null,
   "id": "2fd62be2-05d2-4b0d-8525-436e1f286607",
   "metadata": {},
   "outputs": [],
   "source": []
  },
  {
   "cell_type": "code",
   "execution_count": null,
   "id": "fbe254da-7c6a-4fe9-b9d7-dfa795c27efc",
   "metadata": {},
   "outputs": [],
   "source": []
  },
  {
   "cell_type": "code",
   "execution_count": null,
   "id": "269d48c9-7771-4a46-a00f-6a4d12fc2c58",
   "metadata": {},
   "outputs": [],
   "source": []
  },
  {
   "cell_type": "code",
   "execution_count": null,
   "id": "f8cb8f32-0159-48b7-a0cc-be1856d4452b",
   "metadata": {},
   "outputs": [],
   "source": []
  },
  {
   "cell_type": "code",
   "execution_count": null,
   "id": "d67ce89a-a272-4f09-baec-41c85deafcf7",
   "metadata": {},
   "outputs": [],
   "source": []
  }
 ],
 "metadata": {
  "kernelspec": {
   "display_name": "Python 3 (ipykernel)",
   "language": "python",
   "name": "python3"
  },
  "language_info": {
   "codemirror_mode": {
    "name": "ipython",
    "version": 3
   },
   "file_extension": ".py",
   "mimetype": "text/x-python",
   "name": "python",
   "nbconvert_exporter": "python",
   "pygments_lexer": "ipython3",
   "version": "3.11.8"
  },
  "widgets": {
   "application/vnd.jupyter.widget-state+json": {
    "state": {},
    "version_major": 2,
    "version_minor": 0
   }
  }
 },
 "nbformat": 4,
 "nbformat_minor": 5
}
